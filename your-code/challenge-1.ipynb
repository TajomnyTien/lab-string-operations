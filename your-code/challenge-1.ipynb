{
 "cells": [
  {
   "cell_type": "markdown",
   "metadata": {},
   "source": [
    "# String Operations Lab\n",
    "\n",
    "**Before your start:**\n",
    "\n",
    "- Read the README.md file\n",
    "- Comment as much as you can and use the resources in the README.md file\n",
    "- Happy learning!"
   ]
  },
  {
   "cell_type": "code",
   "execution_count": 1,
   "metadata": {},
   "outputs": [],
   "source": [
    "import re"
   ]
  },
  {
   "cell_type": "markdown",
   "metadata": {},
   "source": [
    "# Challenge 1 - Combining Strings\n",
    "\n",
    "Combining strings is an important skill to acquire. There are multiple ways of combining strings in Python, as well as combining strings with variables. We will explore this in the first challenge. In the cell below, combine the strings in the list and add spaces between the strings (do not add a space after the last string). Insert a period after the last string."
   ]
  },
  {
   "cell_type": "code",
   "execution_count": 160,
   "metadata": {},
   "outputs": [],
   "source": [
    "str_list = ['Durante', 'un', 'tiempo', 'no', 'estuvo', 'segura', 'de', 'si', 'su', 'marido', 'era', 'su', 'marido']\n",
    "# Your code here:\n",
    "sentence = \"\"\n",
    "\n",
    "for value in str_list:\n",
    "    sentence += (value + \" \")\n",
    "\n",
    "for i in range(len(sentence)):\n",
    "    if i == len(sentence)-1:\n",
    "        last_space = sentence[i].replace(\" \", \".\")\n",
    "        sentence = sentence[:-1] + last_space\n",
    "        \n",
    "        \n",
    "#"
   ]
  },
  {
   "cell_type": "code",
   "execution_count": 161,
   "metadata": {},
   "outputs": [
    {
     "name": "stdout",
     "output_type": "stream",
     "text": [
      "Durante un tiempo no estuvo segura de si su marido era su marido.\n"
     ]
    }
   ],
   "source": [
    "print(sentence)"
   ]
  },
  {
   "cell_type": "markdown",
   "metadata": {},
   "source": [
    "In the cell below, use the list of strings to create a grocery list. Start the list with the string `Grocery list: ` and include a comma and a space between each item except for the last one. Include a period at the end. Only include foods in the list that start with the letter 'b' and ensure all foods are lower case."
   ]
  },
  {
   "cell_type": "code",
   "execution_count": 345,
   "metadata": {},
   "outputs": [
    {
     "name": "stdout",
     "output_type": "stream",
     "text": [
      "Grocery list: bananas, bread, brownie mix, broccoli.\n"
     ]
    }
   ],
   "source": [
    "\n",
    "\n",
    "food_list = ['Bananas', 'Chocolate', 'bread', 'diapers', 'Ice Cream', 'Brownie Mix', 'broccoli']\n",
    "# Your code here:\n",
    "\n",
    "grocery_list = \"\"\n",
    "items = \"\"\n",
    "first_letter = \"\"\n",
    "\n",
    "for food in food_list:\n",
    "    food = food.lower()\n",
    "    if food[0] == \"b\":\n",
    "        items += str(food) + \", \"\n",
    "    else:\n",
    "        items += \"\"\n",
    "\n",
    "\n",
    "grocery_list = \"Grocery list: \" + items[:-2] + \".\"\n",
    "print(grocery_list)\n"
   ]
  },
  {
   "cell_type": "markdown",
   "metadata": {},
   "source": [
    "In the cell below, write a function that computes the area of a circle using its radius. Compute the area of the circle and insert the radius and the area between the two strings. Make sure to include spaces between the variable and the strings. \n",
    "\n",
    "Note: You can use the techniques we have learned so far or use f-strings. F-strings allow us to embed code inside strings. You can read more about f-strings [here](https://www.python.org/dev/peps/pep-0498/)."
   ]
  },
  {
   "cell_type": "code",
   "execution_count": 351,
   "metadata": {},
   "outputs": [
    {
     "name": "stdout",
     "output_type": "stream",
     "text": [
      "The area of the circle with radius: 4.5 is: 63.61725123519331.\n"
     ]
    }
   ],
   "source": [
    "import math\n",
    "\n",
    "string1 = \"The area of the circle with radius:\"\n",
    "string2  = \"is:\"\n",
    "radius = 4.5\n",
    "\n",
    "def area(x, pi = math.pi):\n",
    "    # This function takes a radius and returns the area of a circle. We also pass a default value for pi.\n",
    "    # Input: Float (and default value for pi)\n",
    "    # Output: Float\n",
    "    \n",
    "    # Sample input: 5.0\n",
    "    # Sample Output: 78.53981633\n",
    "    \n",
    "    # Your code here:\n",
    "    return pi * (x**2)\n",
    "    \n",
    "# Your output string here:\n",
    "area_of_a_circle = f\"{string1} {radius} {string2} {area(radius)}.\"\n",
    "print(area_of_a_circle)\n"
   ]
  },
  {
   "cell_type": "markdown",
   "metadata": {},
   "source": [
    "# Challenge 2 - Splitting Strings\n",
    "\n",
    "We have first looked at combining strings into one long string. There are times where we need to do the opposite and split the string into smaller components for further analysis. \n",
    "\n",
    "In the cell below, split the string into a list of strings using the space delimiter. Count the frequency of each word in the string in a dictionary. Strip the periods, line breaks and commas from the text. Make sure to remove empty strings from your dictionary."
   ]
  },
  {
   "cell_type": "code",
   "execution_count": 115,
   "metadata": {},
   "outputs": [
    {
     "name": "stdout",
     "output_type": "stream",
     "text": [
      "{'0': 'Some', '1': 'say', '2': 'the', '3': 'world', '4': 'will', '5': 'end', '6': 'in', '7': 'fire', '8': 'Some', '9': 'say', '10': 'in', '11': 'ice', '12': 'From', '13': 'what', '14': 'I’ve', '15': 'tasted', '16': 'of', '17': 'desire', '18': 'I', '19': 'hold', '20': 'with', '21': 'those', '22': 'who', '23': 'favor', '24': 'fire', '25': 'But', '26': 'if', '27': 'it', '28': 'had', '29': 'to', '30': 'perish', '31': 'twice', '32': 'I', '33': 'think', '34': 'I', '35': 'know', '36': 'enough', '37': 'of', '38': 'hate', '39': 'To', '40': 'say', '41': 'that', '42': 'for', '43': 'destruction', '44': 'ice', '45': 'Is', '46': 'also', '47': 'great', '48': 'And', '49': 'would', '50': 'suffice'}\n"
     ]
    }
   ],
   "source": [
    "poem = \"\"\"Some say the world will end in fire,\n",
    "Some say in ice.\n",
    "From what I’ve tasted of desire\n",
    "I hold with those who favor fire.\n",
    "But if it had to perish twice,\n",
    "I think I know enough of hate\n",
    "To say that for destruction ice\n",
    "Is also great\n",
    "And would suffice.\"\"\"\n",
    "\n",
    "\n",
    "# Your code here:\n",
    "\n",
    "\n",
    "poem_str = poem.replace(\"\\n\", \" \").replace(\".\", \"\").replace(\",\", \"\")\n",
    "poem_words = poem_str.replace(\" \", \",\")\n",
    "poem_words = poem_words.split(\",\")\n",
    "poem_dict = {}\n",
    "number = 0\n",
    "\n",
    "\n",
    "for values in poem_words:\n",
    "    key = str(number)\n",
    "    poem_dict[key] = values\n",
    "    number += 1\n",
    "    \n",
    "print(poem_dict)"
   ]
  },
  {
   "cell_type": "code",
   "execution_count": null,
   "metadata": {},
   "outputs": [],
   "source": [
    "\n"
   ]
  },
  {
   "cell_type": "code",
   "execution_count": null,
   "metadata": {},
   "outputs": [],
   "source": []
  },
  {
   "cell_type": "code",
   "execution_count": null,
   "metadata": {},
   "outputs": [],
   "source": []
  },
  {
   "cell_type": "markdown",
   "metadata": {},
   "source": [
    "In the cell below, find all the words that appear in the text and do not appear in the blacklist. You must parse the string but can choose any data structure you wish for the words that do not appear in the blacklist. Remove all non letter characters and convert all words to lower case."
   ]
  },
  {
   "cell_type": "code",
   "execution_count": 1,
   "metadata": {},
   "outputs": [
    {
     "name": "stdout",
     "output_type": "stream",
     "text": [
      "i\n",
      "was\n",
      "angry\n",
      "with\n",
      "my\n",
      "friend\n",
      "i\n",
      "told\n",
      "my\n",
      "wrathmy\n",
      "wrath\n",
      "did\n",
      "end\n",
      "i\n",
      "was\n",
      "angry\n",
      "with\n",
      "my\n",
      "foe\n",
      "i\n",
      "told\n",
      "it\n",
      "notmy\n",
      "wrath\n",
      "did\n",
      "growand\n",
      "i\n",
      "waterd\n",
      "it\n",
      "in\n",
      "fears\n",
      "night\n",
      "&\n",
      "morning\n",
      "with\n",
      "my\n",
      "tears\n",
      "and\n",
      "i\n",
      "sunned\n",
      "it\n",
      "with\n",
      "smiles\n",
      "and\n",
      "with\n",
      "soft\n",
      "deceitful\n",
      "wilesand\n",
      "it\n",
      "grew\n",
      "both\n",
      "day\n",
      "and\n",
      "nighttill\n",
      "it\n",
      "bore\n",
      "an\n",
      "apple\n",
      "brightand\n",
      "my\n",
      "foe\n",
      "beheld\n",
      "it\n",
      "shine\n",
      "and\n",
      "he\n",
      "knew\n",
      "that\n",
      "it\n",
      "was\n",
      "mineand\n",
      "into\n",
      "my\n",
      "garden\n",
      "stolewhen\n",
      "the\n",
      "night\n",
      "had\n",
      "veild\n",
      "the\n",
      "pole\n",
      "in\n",
      "the\n",
      "morning\n",
      "glad\n",
      "i\n",
      "see\n",
      "my\n",
      "foe\n",
      "outstretched\n",
      "beneath\n",
      "the\n",
      "tree\n",
      "[]\n"
     ]
    },
    {
     "data": {
      "text/plain": [
       "0"
      ]
     },
     "execution_count": 1,
     "metadata": {},
     "output_type": "execute_result"
    }
   ],
   "source": [
    "blacklist = ['and', 'as', 'an', 'a', 'the', 'In', 'it']\n",
    "\n",
    "\n",
    "poem = \"\"\"I was angry with my friend; \n",
    "I told my wrath, my wrath did end.\n",
    "I was angry with my foe: \n",
    "I told it not, my wrath did grow. \n",
    "\n",
    "And I waterd it in fears,\n",
    "Night & morning with my tears: \n",
    "And I sunned it with smiles,\n",
    "And with soft deceitful wiles. \n",
    "\n",
    "And it grew both day and night. \n",
    "Till it bore an apple bright. \n",
    "And my foe beheld it shine,\n",
    "And he knew that it was mine. \n",
    "\n",
    "And into my garden stole, \n",
    "When the night had veild the pole; \n",
    "In the morning glad I see; \n",
    "My foe outstretched beneath the tree.\"\"\"\n",
    "\n",
    "# Your code here:\n",
    "final_list = []\n",
    "str_blacklist = str(blacklist)\n",
    "str_blacklist = str_blacklist.lower()\n",
    "words_poem = poem.lower().replace(\"\\n\", \"\").replace(\";\", \"\").replace(\", \", \"\").replace(\". \", \"\").replace(\":\", \"\")\n",
    "words_poem = words_poem.replace(\",\", \" \").replace(\".\", \" \")\n",
    "words_blacklist = str_blacklist.replace(\"[\", \"\").replace(\"]\", \"\").replace(\",\", \"\").replace(\"'\", \"\")\n",
    "\n",
    "\n",
    "words_poem = words_poem.split()\n",
    "words_blacklist = str(words_blacklist.split())\n",
    "\n",
    "\n",
    "for word in words_poem:\n",
    "    if word not in words_blacklist:\n",
    "        final_list.append(word)\n",
    "    else:\n",
    "        \"\"\n",
    "        \n",
    "print(final_list)        \n",
    "len(final_list)\n",
    "\n"
   ]
  },
  {
   "cell_type": "code",
   "execution_count": null,
   "metadata": {},
   "outputs": [],
   "source": []
  },
  {
   "cell_type": "code",
   "execution_count": 224,
   "metadata": {},
   "outputs": [
    {
     "name": "stdout",
     "output_type": "stream",
     "text": [
      "applebananacherry\n",
      "I was angry with my friend; \n",
      "I told my wrath, my wrath did end.\n",
      "I was angry with my foe: \n",
      "I told it not, my wrath did grow. \n",
      "\n",
      "And I waterd it in fears,\n",
      "Night & morning with my tears: \n",
      "And I sunned it with smiles,\n",
      "And with soft deceitful wiles. \n",
      "\n",
      "And it grew both day and night. \n",
      "Till it bore an apple bright. \n",
      "And my foe beheld it shine,\n",
      "And he knew that it was mine. \n",
      "\n",
      "And into my garden stole, \n",
      "When the night had veild the pole; \n",
      "In the morning glad I see; \n",
      "My foe outstretched beneath the tree.\n"
     ]
    }
   ],
   "source": []
  },
  {
   "cell_type": "markdown",
   "metadata": {},
   "source": [
    "# Challenge 3 - Regular Expressions\n",
    "\n",
    "Sometimes, we would like to perform more complex manipulations of our string. This is where regular expressions come in handy. In the cell below, return all characters that are upper case from the string specified below."
   ]
  },
  {
   "cell_type": "code",
   "execution_count": 276,
   "metadata": {},
   "outputs": [
    {
     "name": "stdout",
     "output_type": "stream",
     "text": [
      "T P \n"
     ]
    }
   ],
   "source": [
    "import re\n",
    "\n",
    "poem = \"\"\"The apparition of these faces in the crowd;\n",
    "Petals on a wet, black bough.\"\"\"\n",
    "\n",
    "poem_upper = poem.replace(\".\", \"\").replace(\",\", \"\").replace(\";\", \"\").replace(\" \", \"\").replace(\"\\n\", \"\")\n",
    "uppercase_chars = \"\"\n",
    "\n",
    "# Your code here:\n",
    "for char in poem_upper:\n",
    "    if char.upper() == char:\n",
    "        uppercase_chars += char + \" \"\n",
    "    \n",
    "        \n",
    "print(uppercase_chars)\n"
   ]
  },
  {
   "cell_type": "markdown",
   "metadata": {},
   "source": [
    "In the cell below, filter the list provided and return all elements of the list containing a number. To filter the list, use the `re.search` function. Check if the function does not return `None`. You can read more about the `re.search` function [here](https://docs.python.org/3/library/re.html)."
   ]
  },
  {
   "cell_type": "code",
   "execution_count": 353,
   "metadata": {},
   "outputs": [
    {
     "data": {
      "text/plain": [
       "False"
      ]
     },
     "execution_count": 353,
     "metadata": {},
     "output_type": "execute_result"
    }
   ],
   "source": [
    "data = ['123abc', 'abc123', 'JohnSmith1', 'ABBY4', 'JANE']\n",
    "\n",
    "# Your code here:\n",
    "\n",
    "final_data = []\n",
    "\n",
    "\n",
    "def filter_data(data):\n",
    "    for word in data:\n",
    "        if re.search('[0-9]', word):\n",
    "            final_data.append(word)\n",
    "        else:\n",
    "            continue\n",
    "\n",
    "filter_data(data) != None\n",
    "\n"
   ]
  },
  {
   "cell_type": "code",
   "execution_count": 351,
   "metadata": {},
   "outputs": [
    {
     "name": "stdout",
     "output_type": "stream",
     "text": [
      "['123abc', 'abc123', 'JohnSmith1', 'ABBY4', 'JANE']\n",
      "['123abc', 'abc123', 'JohnSmith1', 'ABBY4']\n"
     ]
    }
   ],
   "source": [
    "\n",
    "filter_data(data)\n",
    "print(final_data)"
   ]
  },
  {
   "cell_type": "code",
   "execution_count": 349,
   "metadata": {},
   "outputs": [
    {
     "name": "stdout",
     "output_type": "stream",
     "text": [
      "['123abc', 'abc123', 'JohnSmith1', 'ABBY4']\n"
     ]
    }
   ],
   "source": []
  },
  {
   "cell_type": "markdown",
   "metadata": {},
   "source": [
    "# Bonus Challenge - Regular Expressions II\n",
    "\n",
    "In the cell below, filter the list provided to keep only strings containing at least one digit and at least one lower case letter. As in the previous question, use the `re.search` function and check that the result is not `None`.\n",
    "\n",
    "To read more about regular expressions, check out [this link](https://developers.google.com/edu/python/regular-expressions)."
   ]
  },
  {
   "cell_type": "code",
   "execution_count": 363,
   "metadata": {},
   "outputs": [
    {
     "name": "stdout",
     "output_type": "stream",
     "text": [
      "['123abc', 'abc123', 'JohnSmith1', 'ABBY4']\n"
     ]
    },
    {
     "data": {
      "text/plain": [
       "False"
      ]
     },
     "execution_count": 363,
     "metadata": {},
     "output_type": "execute_result"
    }
   ],
   "source": [
    "data = ['123abc', 'abc123', 'JohnSmith1', 'ABBY4', 'JANE']\n",
    "# Your code here:\n",
    "\n",
    "final_data = []\n",
    "\n",
    "def filter_data(data):\n",
    "    for word in data:\n",
    "        if re.search('[0-9]', word) or re.search('[a-z]', word):\n",
    "            final_data.append(word)\n",
    "        else:\n",
    "            continue\n",
    "\n",
    "\n",
    "filter_data(data)\n",
    "print(final_data)\n",
    "filter_data(data) != None"
   ]
  },
  {
   "cell_type": "code",
   "execution_count": null,
   "metadata": {},
   "outputs": [],
   "source": []
  },
  {
   "cell_type": "code",
   "execution_count": null,
   "metadata": {},
   "outputs": [],
   "source": []
  },
  {
   "cell_type": "code",
   "execution_count": null,
   "metadata": {},
   "outputs": [],
   "source": []
  }
 ],
 "metadata": {
  "kernelspec": {
   "display_name": "Python 3 (ipykernel)",
   "language": "python",
   "name": "python3"
  },
  "language_info": {
   "codemirror_mode": {
    "name": "ipython",
    "version": 3
   },
   "file_extension": ".py",
   "mimetype": "text/x-python",
   "name": "python",
   "nbconvert_exporter": "python",
   "pygments_lexer": "ipython3",
   "version": "3.9.13"
  }
 },
 "nbformat": 4,
 "nbformat_minor": 2
}
